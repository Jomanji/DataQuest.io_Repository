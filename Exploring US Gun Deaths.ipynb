{
 "cells": [
  {
   "cell_type": "code",
   "execution_count": 59,
   "metadata": {
    "collapsed": false
   },
   "outputs": [
    {
     "name": "stdout",
     "output_type": "stream",
     "text": [
      "[['', 'year', 'month', 'intent', 'police', 'sex', 'age', 'race', 'hispanic', 'place', 'education'], ['1', '2012', '01', 'Suicide', '0', 'M', '34', 'Asian/Pacific Islander', '100', 'Home', '4'], ['2', '2012', '01', 'Suicide', '0', 'F', '21', 'White', '100', 'Street', '3'], ['3', '2012', '01', 'Suicide', '0', 'M', '60', 'White', '100', 'Other specified', '4'], ['4', '2012', '02', 'Suicide', '0', 'M', '64', 'White', '100', 'Home', '4']]\n"
     ]
    }
   ],
   "source": [
    "import csv\n",
    "\n",
    "f = open(\"guns.csv\")\n",
    "f = csv.reader(f)\n",
    "\n",
    "data = list(f)\n",
    "\n",
    "print(data[:5])"
   ]
  },
  {
   "cell_type": "code",
   "execution_count": 60,
   "metadata": {
    "collapsed": false
   },
   "outputs": [
    {
     "name": "stdout",
     "output_type": "stream",
     "text": [
      "['', 'year', 'month', 'intent', 'police', 'sex', 'age', 'race', 'hispanic', 'place', 'education']\n",
      "[['1', '2012', '01', 'Suicide', '0', 'M', '34', 'Asian/Pacific Islander', '100', 'Home', '4'], ['2', '2012', '01', 'Suicide', '0', 'F', '21', 'White', '100', 'Street', '3'], ['3', '2012', '01', 'Suicide', '0', 'M', '60', 'White', '100', 'Other specified', '4'], ['4', '2012', '02', 'Suicide', '0', 'M', '64', 'White', '100', 'Home', '4'], ['5', '2012', '02', 'Suicide', '0', 'M', '31', 'White', '100', 'Other specified', '2']]\n"
     ]
    }
   ],
   "source": [
    "headers = data[0]\n",
    "data = data[1:]\n",
    "\n",
    "print(headers)\n",
    "\n",
    "print(data[:5])"
   ]
  },
  {
   "cell_type": "code",
   "execution_count": 61,
   "metadata": {
    "collapsed": false
   },
   "outputs": [
    {
     "name": "stdout",
     "output_type": "stream",
     "text": [
      "{'2012': 33563, '2014': 33599, '2013': 33636}\n"
     ]
    }
   ],
   "source": [
    "years = [x[1] for x in data]\n",
    "year_counts = {}\n",
    "\n",
    "for year in years:\n",
    "    if year in year_counts.keys():\n",
    "        year_counts[year] += 1\n",
    "    else:\n",
    "        year_counts[year] = 1\n",
    "\n",
    "print(year_counts)"
   ]
  },
  {
   "cell_type": "code",
   "execution_count": 62,
   "metadata": {
    "collapsed": false
   },
   "outputs": [
    {
     "name": "stdout",
     "output_type": "stream",
     "text": [
      "2012-02-01 00:00:00\n",
      "{datetime.datetime(2013, 10, 1, 0, 0): 2808, datetime.datetime(2012, 11, 1, 0, 0): 2729, datetime.datetime(2012, 7, 1, 0, 0): 3026, datetime.datetime(2014, 2, 1, 0, 0): 2361, datetime.datetime(2012, 1, 1, 0, 0): 2758, datetime.datetime(2014, 12, 1, 0, 0): 2857, datetime.datetime(2013, 9, 1, 0, 0): 2742, datetime.datetime(2013, 12, 1, 0, 0): 2765, datetime.datetime(2014, 1, 1, 0, 0): 2651, datetime.datetime(2014, 10, 1, 0, 0): 2865, datetime.datetime(2013, 4, 1, 0, 0): 2798, datetime.datetime(2013, 7, 1, 0, 0): 3079, datetime.datetime(2012, 5, 1, 0, 0): 2999, datetime.datetime(2012, 4, 1, 0, 0): 2795, datetime.datetime(2013, 1, 1, 0, 0): 2864, datetime.datetime(2014, 3, 1, 0, 0): 2684, datetime.datetime(2012, 8, 1, 0, 0): 2954, datetime.datetime(2012, 10, 1, 0, 0): 2733, datetime.datetime(2013, 5, 1, 0, 0): 2806, datetime.datetime(2014, 11, 1, 0, 0): 2756, datetime.datetime(2014, 9, 1, 0, 0): 2914, datetime.datetime(2014, 6, 1, 0, 0): 2931, datetime.datetime(2012, 2, 1, 0, 0): 2357, datetime.datetime(2014, 7, 1, 0, 0): 2884, datetime.datetime(2014, 4, 1, 0, 0): 2862, datetime.datetime(2013, 2, 1, 0, 0): 2375, datetime.datetime(2013, 8, 1, 0, 0): 2859, datetime.datetime(2014, 5, 1, 0, 0): 2864, datetime.datetime(2012, 12, 1, 0, 0): 2791, datetime.datetime(2013, 6, 1, 0, 0): 2920, datetime.datetime(2012, 3, 1, 0, 0): 2743, datetime.datetime(2014, 8, 1, 0, 0): 2970, datetime.datetime(2012, 6, 1, 0, 0): 2826, datetime.datetime(2013, 11, 1, 0, 0): 2758, datetime.datetime(2013, 3, 1, 0, 0): 2862, datetime.datetime(2012, 9, 1, 0, 0): 2852}\n"
     ]
    }
   ],
   "source": [
    "import datetime as dt\n",
    "\n",
    "dates = [dt.datetime(year=int(x[1]), month=int(x[2]), day=1) for x in data]\n",
    "\n",
    "print(dates[5])\n",
    "\n",
    "date_counts = {}\n",
    "\n",
    "for date in dates:\n",
    "    if date in date_counts.keys():\n",
    "        date_counts[date] += 1\n",
    "    else:\n",
    "        date_counts[date] = 1\n",
    "        \n",
    "print(date_counts)"
   ]
  },
  {
   "cell_type": "code",
   "execution_count": 63,
   "metadata": {
    "collapsed": false
   },
   "outputs": [
    {
     "name": "stdout",
     "output_type": "stream",
     "text": [
      "{'M': 86349, 'F': 14449}\n",
      "{'Asian/Pacific Islander': 1326, 'Hispanic': 9022, 'Black': 23296, 'White': 66237, 'Native American/Native Alaskan': 917}\n"
     ]
    }
   ],
   "source": [
    "sexes = [x[5] for x in data]\n",
    "sex_counts = {}\n",
    "\n",
    "for sex in sexes:\n",
    "    if sex in sex_counts.keys():\n",
    "        sex_counts[sex] += 1\n",
    "    else:\n",
    "        sex_counts[sex] = 1\n",
    "\n",
    "print(sex_counts)\n",
    "\n",
    "races = [x[7] for x in data]\n",
    "race_counts = {}\n",
    "\n",
    "for race in races:\n",
    "    if race in race_counts.keys():\n",
    "        race_counts[race] += 1\n",
    "    else:\n",
    "        race_counts[race] = 1\n",
    "\n",
    "print(race_counts)"
   ]
  },
  {
   "cell_type": "code",
   "execution_count": 64,
   "metadata": {
    "collapsed": false
   },
   "outputs": [
    {
     "name": "stdout",
     "output_type": "stream",
     "text": [
      "[['Id', 'Year', 'Id', 'Sex', 'Id', 'Hispanic Origin', 'Id', 'Id2', 'Geography', 'Total', 'Race Alone - White', 'Race Alone - Hispanic', 'Race Alone - Black or African American', 'Race Alone - American Indian and Alaska Native', 'Race Alone - Asian', 'Race Alone - Native Hawaiian and Other Pacific Islander', 'Two or More Races'], ['cen42010', 'April 1, 2010 Census', 'totsex', 'Both Sexes', 'tothisp', 'Total', '0100000US', '', 'United States', '308745538', '197318956', '44618105', '40250635', '3739506', '15159516', '674625', '6984195']]\n"
     ]
    }
   ],
   "source": [
    "census = open(\"census.csv\")\n",
    "census = csv.reader(census)\n",
    "\n",
    "census = list(census)\n",
    "\n",
    "print(census)"
   ]
  },
  {
   "cell_type": "code",
   "execution_count": 65,
   "metadata": {
    "collapsed": false
   },
   "outputs": [
    {
     "name": "stdout",
     "output_type": "stream",
     "text": [
      "{'Asian/Pacific Islander': 17.313372033811998, 'Hispanic': 22.41455321139654, 'Native American/Native Alaskan': 6.049005786200562, 'White': 148.45318957405297, 'Black': 622.9699858751396}\n"
     ]
    }
   ],
   "source": [
    "mapping = {\"Asian/Pacific Islander\":int(census[1][15]) + int(census[1][16]), \n",
    "                  \"Black\":int(census[1][13]),\n",
    "                  \"Native American/Native Alaskan\":int(census[1][14]),\n",
    "                  \"Hispanic\":int(census[1][12]),\n",
    "                  \"White\":int(census[1][11])}\n",
    "\n",
    "race_per_hundredk = {}\n",
    "\n",
    "for key in race_counts.keys():\n",
    "    race_per_hundredk[key] = race_counts[key]/mapping[key] * 100000\n",
    "    \n",
    "print(race_per_hundredk)"
   ]
  },
  {
   "cell_type": "code",
   "execution_count": 66,
   "metadata": {
    "collapsed": false
   },
   "outputs": [
    {
     "name": "stdout",
     "output_type": "stream",
     "text": [
      "{'Asian/Pacific Islander': 7.298774484842313, 'Hispanic': 13.997294701064964, 'Native American/Native Alaskan': 2.1504644343526533, 'White': 20.50064654247418, 'Black': 521.7266665703972}\n"
     ]
    }
   ],
   "source": [
    "intents = [x[3] for x in data]\n",
    "races = [x[7] for x in data]\n",
    "\n",
    "homicide_race_per_hundredk = {}\n",
    "\n",
    "for i, race in enumerate(races):\n",
    "    if intents[i] == \"Homicide\":\n",
    "        if race not in homicide_race_per_hundredk.keys():\n",
    "            homicide_race_per_hundredk[race] = 1\n",
    "        else:\n",
    "            homicide_race_per_hundredk[race] += 1\n",
    "\n",
    "for key in homicide_race_per_hundredk.keys():\n",
    "    homicide_race_per_hundredk[key] = homicide_race_per_hundredk[key]/mapping[key] * 100000\n",
    "    \n",
    "print(homicide_race_per_hundredk)"
   ]
  },
  {
   "cell_type": "code",
   "execution_count": 67,
   "metadata": {
    "collapsed": false
   },
   "outputs": [
    {
     "data": {
      "text/plain": [
       "<matplotlib.figure.Figure at 0x7f9341706978>"
      ]
     },
     "metadata": {},
     "output_type": "display_data"
    },
    {
     "data": {
      "text/plain": [
       "{'01': 2829,\n",
       " '02': 2178,\n",
       " '03': 2780,\n",
       " '04': 2845,\n",
       " '05': 2976,\n",
       " '06': 3130,\n",
       " '07': 3269,\n",
       " '08': 3125,\n",
       " '09': 2966,\n",
       " '10': 2968,\n",
       " '11': 2919,\n",
       " '12': 3191}"
      ]
     },
     "execution_count": 67,
     "metadata": {},
     "output_type": "execute_result"
    }
   ],
   "source": [
    "import matplotlib.pyplot as plt\n",
    "\n",
    "months = [x[2] for x in data]\n",
    "intent_homicide = [\"Yes\" if x[3] == \"Homicide\" else \"No\" for x in data]\n",
    "\n",
    "months_yes = {}\n",
    "months_no = {}\n",
    "\n",
    "for i in range(len(months)):\n",
    "    if intent_homicide[i] == \"Yes\" and months[i] not in months_yes.keys():\n",
    "        months_yes[months[i]] = 1\n",
    "    elif intent_homicide[i] == \"Yes\" and months[i] in months_yes.keys():\n",
    "        months_yes[months[i]] += 1\n",
    "    elif intent_homicide[i] == \"No\" and months[i] not in months_no.keys():\n",
    "        months_no[months[i]] = 1\n",
    "    elif intent_homicide[i] == \"No\" and months[i] in months_no.keys():\n",
    "        months_no[months[i]] += 1\n",
    "\n",
    "plt.bar(left=months_yes.keys(),height=months_yes.values())\n",
    "plt.show()\n",
    "\n",
    "months_yes"
   ]
  },
  {
   "cell_type": "code",
   "execution_count": 68,
   "metadata": {
    "collapsed": false
   },
   "outputs": [
    {
     "data": {
      "text/plain": [
       "{'female': 5373, 'male': 29803}"
      ]
     },
     "execution_count": 68,
     "metadata": {},
     "output_type": "execute_result"
    }
   ],
   "source": [
    "homicides_by_gender = {\"male\":0,\"female\":0}\n",
    "\n",
    "for i in range(len(sexes)):\n",
    "    if intent_homicide[i] == \"Yes\" and sexes[i] == \"M\":\n",
    "        homicides_by_gender[\"male\"] += 1\n",
    "    elif intent_homicide[i] == \"Yes\" and sexes[i] == \"F\":\n",
    "        homicides_by_gender[\"female\"] += 1\n",
    "        \n",
    "homicides_by_gender"
   ]
  },
  {
   "cell_type": "code",
   "execution_count": 74,
   "metadata": {
    "collapsed": false
   },
   "outputs": [
    {
     "data": {
      "text/plain": [
       "{'Farm': 76,\n",
       " 'Home': 13613,\n",
       " 'Industrial/construction': 85,\n",
       " 'NA': 1383,\n",
       " 'Other specified': 5429,\n",
       " 'Other unspecified': 3604,\n",
       " 'Residential institution': 73,\n",
       " 'School/instiution': 361,\n",
       " 'Sports': 22,\n",
       " 'Street': 8867,\n",
       " 'Trade/service area': 1663}"
      ]
     },
     "execution_count": 74,
     "metadata": {},
     "output_type": "execute_result"
    }
   ],
   "source": [
    "def intent_by_attribute(intent, attribute, data):\n",
    "    intent_yes_no = [\"yes\" if x[3] == intent else \"no\" for x in data]\n",
    "    \n",
    "    for i, attr in enumerate(headers):\n",
    "        if attr == attribute:\n",
    "            attribute_col_index = i\n",
    "            break\n",
    "            \n",
    "    attribute_from_data = [x[attribute_col_index] for x in data]\n",
    "    \n",
    "    intent_by_attribute_dict = {}\n",
    "    \n",
    "    for i in range(len(intent_yes_no)):\n",
    "        if intent_yes_no[i] == \"yes\" and attribute_from_data[i] not in intent_by_attribute_dict.keys():\n",
    "            intent_by_attribute_dict[attribute_from_data[i]] = 1\n",
    "        elif intent_yes_no[i] == \"yes\" and attribute_from_data[i] in intent_by_attribute_dict.keys():\n",
    "            intent_by_attribute_dict[attribute_from_data[i]] += 1\n",
    "    \n",
    "    return intent_by_attribute_dict\n",
    "            \n",
    "accidental_by_gender = intent_by_attribute(\"Accidental\",\"sex\",data)\n",
    "accidental_by_race = intent_by_attribute(\"Accidental\",\"race\",data)\n",
    "homicide_by_location = intent_by_attribute(\"Homicide\",\"place\",data)\n",
    "homicide_by_location"
   ]
  },
  {
   "cell_type": "code",
   "execution_count": null,
   "metadata": {
    "collapsed": true
   },
   "outputs": [],
   "source": []
  }
 ],
 "metadata": {
  "kernelspec": {
   "display_name": "Python 3",
   "language": "python",
   "name": "python3"
  },
  "language_info": {
   "codemirror_mode": {
    "name": "ipython",
    "version": 3
   },
   "file_extension": ".py",
   "mimetype": "text/x-python",
   "name": "python",
   "nbconvert_exporter": "python",
   "pygments_lexer": "ipython3",
   "version": "3.4.3"
  }
 },
 "nbformat": 4,
 "nbformat_minor": 0
}
